{
 "cells": [
  {
   "cell_type": "code",
   "execution_count": 13,
   "metadata": {},
   "outputs": [],
   "source": [
    "import numpy as np\n",
    "from PIL import Image\n",
    "import glob\n",
    "from numpy import asarray as aa"
   ]
  },
  {
   "cell_type": "markdown",
   "metadata": {},
   "source": [
    "## Access image directory"
   ]
  },
  {
   "cell_type": "code",
   "execution_count": 14,
   "metadata": {},
   "outputs": [],
   "source": [
    "def img_array(wd):\n",
    "    image = Image.open(wd[1])\n",
    "    array = np.array(image)\n",
    "    return array"
   ]
  },
  {
   "cell_type": "code",
   "execution_count": 15,
   "metadata": {},
   "outputs": [],
   "source": [
    "directory = glob.glob(\"/Users/frederiklindvig/Desktop/Python_pathology/PathologyInput/*.jpeg\")\n",
    "array = img_array(directory)"
   ]
  },
  {
   "cell_type": "code",
   "execution_count": 16,
   "metadata": {},
   "outputs": [
    {
     "name": "stdout",
     "output_type": "stream",
     "text": [
      "(1529, 1256, 3)\n"
     ]
    }
   ],
   "source": [
    "print(array.shape)"
   ]
  },
  {
   "cell_type": "code",
   "execution_count": 17,
   "metadata": {},
   "outputs": [
    {
     "name": "stdout",
     "output_type": "stream",
     "text": [
      "[[[213 212 220]\n",
      "  [218 215 224]\n",
      "  [214 211 220]\n",
      "  ...\n",
      "  [233 233 243]\n",
      "  [233 233 243]\n",
      "  [233 233 243]]\n",
      "\n",
      " [[196 193 200]\n",
      "  [204 201 210]\n",
      "  [205 202 213]\n",
      "  ...\n",
      "  [233 233 243]\n",
      "  [233 233 243]\n",
      "  [233 233 243]]\n",
      "\n",
      " [[199 196 203]\n",
      "  [201 198 209]\n",
      "  [197 193 208]\n",
      "  ...\n",
      "  [233 233 243]\n",
      "  [233 233 243]\n",
      "  [233 233 243]]\n",
      "\n",
      " ...\n",
      "\n",
      " [[236 236 246]\n",
      "  [235 235 245]\n",
      "  [235 235 245]\n",
      "  ...\n",
      "  [235 235 245]\n",
      "  [235 235 245]\n",
      "  [235 235 245]]\n",
      "\n",
      " [[236 236 246]\n",
      "  [235 235 245]\n",
      "  [235 235 245]\n",
      "  ...\n",
      "  [235 235 245]\n",
      "  [235 235 245]\n",
      "  [235 235 245]]\n",
      "\n",
      " [[235 235 245]\n",
      "  [235 235 245]\n",
      "  [235 235 245]\n",
      "  ...\n",
      "  [235 235 245]\n",
      "  [235 235 245]\n",
      "  [235 235 245]]]\n"
     ]
    }
   ],
   "source": [
    "numpydata = aa(array)\n",
    "print(numpydata)"
   ]
  },
  {
   "cell_type": "code",
   "execution_count": null,
   "metadata": {},
   "outputs": [],
   "source": []
  }
 ],
 "metadata": {
  "kernelspec": {
   "display_name": "Python 3",
   "language": "python",
   "name": "python3"
  },
  "language_info": {
   "codemirror_mode": {
    "name": "ipython",
    "version": 3
   },
   "file_extension": ".py",
   "mimetype": "text/x-python",
   "name": "python",
   "nbconvert_exporter": "python",
   "pygments_lexer": "ipython3",
   "version": "3.8.5"
  }
 },
 "nbformat": 4,
 "nbformat_minor": 4
}
