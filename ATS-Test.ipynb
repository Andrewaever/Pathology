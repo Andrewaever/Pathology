{
 "cells": [
  {
   "cell_type": "code",
   "execution_count": 5,
   "metadata": {},
   "outputs": [
    {
     "ename": "ModuleNotFoundError",
     "evalue": "No module named 'tensorflow'",
     "output_type": "error",
     "traceback": [
      "\u001b[1;31m---------------------------------------------------------------------------\u001b[0m",
      "\u001b[1;31mModuleNotFoundError\u001b[0m                       Traceback (most recent call last)",
      "\u001b[1;32m<ipython-input-5-d5ed5c33b310>\u001b[0m in \u001b[0;36m<module>\u001b[1;34m\u001b[0m\n\u001b[0;32m      1\u001b[0m \u001b[1;31m## Different libraries to include - check\u001b[0m\u001b[1;33m\u001b[0m\u001b[1;33m\u001b[0m\u001b[1;33m\u001b[0m\u001b[0m\n\u001b[0;32m      2\u001b[0m \u001b[1;32mimport\u001b[0m \u001b[0mos\u001b[0m\u001b[1;33m\u001b[0m\u001b[1;33m\u001b[0m\u001b[0m\n\u001b[1;32m----> 3\u001b[1;33m \u001b[1;32mimport\u001b[0m \u001b[0mtensorflow\u001b[0m \u001b[1;32mas\u001b[0m \u001b[0mtf\u001b[0m\u001b[1;33m\u001b[0m\u001b[1;33m\u001b[0m\u001b[0m\n\u001b[0m\u001b[0;32m      4\u001b[0m \u001b[1;32mfrom\u001b[0m \u001b[0mtensorflow\u001b[0m \u001b[1;32mimport\u001b[0m \u001b[0mkeras\u001b[0m\u001b[1;33m\u001b[0m\u001b[1;33m\u001b[0m\u001b[0m\n\u001b[0;32m      5\u001b[0m \u001b[0mos\u001b[0m\u001b[1;33m.\u001b[0m\u001b[0menviron\u001b[0m\u001b[1;33m[\u001b[0m\u001b[1;34m\"CUDA_DEVICE_ORDER\"\u001b[0m\u001b[1;33m]\u001b[0m \u001b[1;33m=\u001b[0m \u001b[1;34m\"PCI_BUS_ID\"\u001b[0m\u001b[1;33m\u001b[0m\u001b[1;33m\u001b[0m\u001b[0m\n",
      "\u001b[1;31mModuleNotFoundError\u001b[0m: No module named 'tensorflow'"
     ]
    }
   ],
   "source": [
    "## Different libraries to include - check \n",
    "import os\n",
    "import tensorflow as tf ## Skal installeres på en eller anden måde?\n",
    "from tensorflow import keras\n",
    "os.environ[\"CUDA_DEVICE_ORDER\"] = \"PCI_BUS_ID\"\n",
    "os.environ[\"CUDA_VISIBLE_DEVICES\"] = \"0\"\n",
    "import argparse\n",
    "from keras.callbacks import ModelCheckpoint, CSVLogger\n",
    "from keras.models import Model, model_from_json\n",
    "\n",
    "from ats.core import attention_sampling, SamplePatches, Expectation\n",
    "from ats.utils.layers import L2Normalize, SampleSoftmax, ResizeImages, ActivityRegularizer, TotalReshape\n",
    "from ats.utils.regularizers import multinomial_entropy\n",
    "from ats.utils.training import Batcher\n",
    "\n",
    "from DataManager import PathologyData\n",
    "from ModelManager import AttentionSaver, get_optimizer, get_model, step_decay_schedule, get_configs\n",
    "\n",
    "from tensorflow.compat.v1 import ConfigProto\n",
    "from tensorflow.compat.v1 import InteractiveSession\n",
    "config = ConfigProto()\n",
    "config.gpu_options.allow_growth = True ## To test on GPU and not CPU? \n",
    "session = InteractiveSession(config=config)"
   ]
  },
  {
   "cell_type": "code",
   "execution_count": 8,
   "metadata": {},
   "outputs": [
    {
     "data": {
      "text/plain": [
       "_StoreAction(option_strings=['-set'], dest='set', nargs=None, const=None, default=None, type=None, choices=None, help='Which dataset are you using? e.g. /* INDSÆT HVILKE IHC VI BRUGER HER! */ ', metavar=None)"
      ]
     },
     "execution_count": 8,
     "metadata": {},
     "output_type": "execute_result"
    }
   ],
   "source": [
    "## Tilføjelse af argparse for at kunne indsætte argumenter i funktioner. Gøres lettere at redigere i optimizers etc\n",
    "parser = argparse.ArgumentParser()\n",
    "parser.add_argument(\"-datapath\", help=\"path to the data set\", required=True)\n",
    "parser.add_argument(\"-output\", help=\"An output directory\", required=True)\n",
    "parser.add_argument(\"-set\", help=\"Which dataset are you using? e.g. /* INDSÆT HVILKE IHC VI BRUGER HER! */ \", required=True)"
   ]
  },
  {
   "cell_type": "code",
   "execution_count": 9,
   "metadata": {},
   "outputs": [],
   "source": [
    "## String to bool - omdanner en string værdi til boolean / yes or no\n",
    "def str2bool(v):\n",
    "    if isinstance(v, bool):\n",
    "        return v\n",
    "    if v.lower() in (\"yes\", \"true\", \"t\", \"y\", \"1\"):\n",
    "        return True\n",
    "    elif v.lower() in (\"no\", \"false\", \"f\", \"n\", \"0\"):\n",
    "        return False\n",
    "    else:\n",
    "        raise argparse.ArgumentTypeError(\"Boolean value expected.\")"
   ]
  },
  {
   "cell_type": "code",
   "execution_count": 10,
   "metadata": {},
   "outputs": [
    {
     "data": {
      "text/plain": [
       "_StoreAction(option_strings=['-res_drop_rate'], dest='res_drop_rate', nargs=None, const=None, default=0.0, type=<class 'float'>, choices=None, help='Set the value of the dropout rate for the dropout layers in your res-net. Only used if \"res_drop\" is True.', metavar=None)"
      ]
     },
     "execution_count": 10,
     "metadata": {},
     "output_type": "execute_result"
    }
   ],
   "source": [
    "## Alle parser argumenter Anders bruger - skal kigges igennem for at se hvilke vi synes er vigtige? \n",
    "parser.add_argument(\n",
    "    \"-rmbg\",\n",
    "    default=False,\n",
    "    type=str2bool,\n",
    "    help=\"Remove the background from the images before training?\"\n",
    ")\n",
    "parser.add_argument(\n",
    "        \"-optimizer\",\n",
    "        choices=[\"sgd\", \"adam\", \"rmsprop\"],\n",
    "        default=\"adam\",\n",
    "        help=\"Choose the optimizer\"\n",
    "    )\n",
    "parser.add_argument(\n",
    "    \"-lr\",\n",
    "    help=\"The Learning Rate for the Optimizer\",\n",
    "    default=0.00001,\n",
    "    type=float\n",
    ")\n",
    "parser.add_argument(\n",
    "    \"-momentum\",\n",
    "    type=float,\n",
    "    default=0.9,\n",
    "    help=\"Choose the momentum for the Optimizer\"\n",
    ")\n",
    "parser.add_argument(\n",
    "    \"-clipnorm\",\n",
    "    type=float,\n",
    "    default=1,\n",
    "    help=\"Clip the gradient norm to avoid exploding gradients? 1=Y, 0=N\"\n",
    ")\n",
    "parser.add_argument(\n",
    "    \"-patch_size\",\n",
    "    type=lambda x: tuple(int(xi) for xi in x.split(\"x\")),\n",
    "    default=\"100x100\",\n",
    "    help=\"Choose the size of the patch to extract from the high resolution\"\n",
    ")\n",
    "parser.add_argument(\n",
    "    \"-n_patches\",\n",
    "    type=int,\n",
    "    default=50,\n",
    "    help=\"How many patches to sample\"\n",
    ")\n",
    "parser.add_argument(\n",
    "    \"-regularizer_strength\",\n",
    "    type=float,\n",
    "    default=0.01, #0.01\n",
    "    help=\"How strong should the regularization be for the attention\"\n",
    ")\n",
    "\n",
    "parser.add_argument(\n",
    "    \"-batch_size\",\n",
    "    type=int,\n",
    "    default=6,\n",
    "    help=\"Choose the batch size for SGD\"\n",
    ")\n",
    "parser.add_argument(\n",
    "    \"-epochs\",\n",
    "    type=int,\n",
    "    help=\"How many epochs to train\",\n",
    "    default=200\n",
    ")\n",
    "parser.add_argument(\n",
    "    \"-aug\",\n",
    "    type=str2bool,\n",
    "    default=True,\n",
    "    help=\"Do you want to apply data augmentation to the data during training?\"\n",
    ")\n",
    "parser.add_argument(\n",
    "    \"-cont_train\",\n",
    "    type=str2bool,\n",
    "    help=\"Wish to continue training on previous weights?\",\n",
    "    default=False\n",
    ")\n",
    "parser.add_argument(\n",
    "    \"-model_dir\",\n",
    "    type=str,\n",
    "    help=\"Path to the saved model architectures.\",\n",
    "    required=False\n",
    ")\n",
    "parser.add_argument(\n",
    "    \"-att_weights\",\n",
    "    type=str,\n",
    "    help=\"Path to the weights of the attention part of the network\",\n",
    "    required=False\n",
    ")\n",
    "parser.add_argument(\n",
    "    \"-feat_weights\",\n",
    "    type=str,\n",
    "    help=\"Path to the weights for the feature net part of the network.\",\n",
    "    required=False\n",
    ")\n",
    "parser.add_argument(\n",
    "    \"-res_depth\",\n",
    "    type=int,\n",
    "    default=20,\n",
    "    required=False,\n",
    "    help=\"How deep should the ResNet used as feature extraction network be?\"\n",
    ")\n",
    "parser.add_argument(\n",
    "    \"-res_drop\",\n",
    "    type=str2bool,\n",
    "    default=False,\n",
    "    required=False,\n",
    "    help=\"Do you want to use dropout layers in your res-net (which serves as your feature extractor)?\"\n",
    ")\n",
    "parser.add_argument(\n",
    "    \"-res_drop_rate\",\n",
    "    type=float,\n",
    "    default=0.0,\n",
    "    required=False,\n",
    "    help=\"Set the value of the dropout rate for the dropout layers in your res-net. Only used if \\\"res_drop\\\" is True.\"\n",
    ")"
   ]
  },
  {
   "cell_type": "code",
   "execution_count": 11,
   "metadata": {},
   "outputs": [
    {
     "name": "stderr",
     "output_type": "stream",
     "text": [
      "usage: ipykernel_launcher.py [-h] -datapath DATAPATH -output OUTPUT -set SET [-rmbg RMBG]\n",
      "                             [-optimizer {sgd,adam,rmsprop}] [-lr LR] [-momentum MOMENTUM] [-clipnorm CLIPNORM]\n",
      "                             [-patch_size PATCH_SIZE] [-n_patches N_PATCHES]\n",
      "                             [-regularizer_strength REGULARIZER_STRENGTH] [-batch_size BATCH_SIZE] [-epochs EPOCHS]\n",
      "                             [-aug AUG] [-cont_train CONT_TRAIN] [-model_dir MODEL_DIR] [-att_weights ATT_WEIGHTS]\n",
      "                             [-feat_weights FEAT_WEIGHTS] [-res_depth RES_DEPTH] [-res_drop RES_DROP]\n",
      "                             [-res_drop_rate RES_DROP_RATE]\n",
      "ipykernel_launcher.py: error: the following arguments are required: -datapath, -output, -set\n"
     ]
    },
    {
     "ename": "SystemExit",
     "evalue": "2",
     "output_type": "error",
     "traceback": [
      "An exception has occurred, use %tb to see the full traceback.\n",
      "\u001b[1;31mSystemExit\u001b[0m\u001b[1;31m:\u001b[0m 2\n"
     ]
    },
    {
     "name": "stderr",
     "output_type": "stream",
     "text": [
      "C:\\Users\\andre\\anaconda3\\lib\\site-packages\\IPython\\core\\interactiveshell.py:3426: UserWarning: To exit: use 'exit', 'quit', or Ctrl-D.\n",
      "  warn(\"To exit: use 'exit', 'quit', or Ctrl-D.\", stacklevel=1)\n"
     ]
    }
   ],
   "source": [
    "## Args er her det man kalder for at hente arg.parse kaldene \n",
    "\n",
    "args = vars(parser.parse_args())\n",
    "\n",
    "\n",
    "network_configs = get_configs(args[\"set\"])\n",
    "\n",
    "## Pathology data sker her indlæses med vores path. Ændring af kald \n",
    "training_set = PathologyData(args[\"datapath\"], set=\"Train\", rm_bg=args[\"rmbg\"],\n",
    "                             augmentation_mode=\"standard\" if args[\"aug\"] else \"\",\n",
    "                             classes_dict=network_configs[\"classes\"])\n",
    "training_batched = Batcher(training_set, batch_size=args[\"batch_size\"])\n",
    "\n",
    "## Samme her PathologyData\n",
    "validation_set = PathologyData(args[\"datapath\"], set=\"Val\", rm_bg=args[\"rmbg\"],\n",
    "                               augmentation_mode=\"\",\n",
    "                               classes_dict=network_configs[\"classes\"])\n",
    "validation_batched = Batcher(validation_set, batch_size=args[\"batch_size\"])\n",
    "\n",
    "## Get_model til crop_reshape\n",
    "if not args[\"cont_train\"]:\n",
    "    model, att_model = get_model(\n",
    "        outputs=len(training_set.CLASSES),\n",
    "        width=network_configs[\"crop_reshape\"][0],\n",
    "        height=network_configs[\"crop_reshape\"][1],\n",
    "        scale=0.05,\n",
    "        res_depth=args[\"res_depth\"],\n",
    "        res_drop=args[\"res_drop\"],\n",
    "        res_drop_rate=args[\"res_drop_rate\"],\n",
    "        n_patches=args[\"n_patches\"],\n",
    "        patch_size=args[\"patch_size\"],\n",
    "        reg=args[\"regularizer_strength\"]\n",
    "    )"
   ]
  },
  {
   "cell_type": "code",
   "execution_count": 12,
   "metadata": {},
   "outputs": [
    {
     "ename": "NameError",
     "evalue": "name 'model' is not defined",
     "output_type": "error",
     "traceback": [
      "\u001b[1;31m---------------------------------------------------------------------------\u001b[0m",
      "\u001b[1;31mNameError\u001b[0m                                 Traceback (most recent call last)",
      "\u001b[1;32m<ipython-input-12-476e1ad12c7b>\u001b[0m in \u001b[0;36m<module>\u001b[1;34m\u001b[0m\n\u001b[0;32m      1\u001b[0m \u001b[1;31m## Compile af modellen\u001b[0m\u001b[1;33m\u001b[0m\u001b[1;33m\u001b[0m\u001b[1;33m\u001b[0m\u001b[0m\n\u001b[1;32m----> 2\u001b[1;33m model.compile(\n\u001b[0m\u001b[0;32m      3\u001b[0m     \u001b[0mloss\u001b[0m\u001b[1;33m=\u001b[0m\u001b[1;34m\"categorical_crossentropy\"\u001b[0m\u001b[1;33m,\u001b[0m\u001b[1;33m\u001b[0m\u001b[1;33m\u001b[0m\u001b[0m\n\u001b[0;32m      4\u001b[0m     \u001b[0moptimizer\u001b[0m\u001b[1;33m=\u001b[0m\u001b[0mget_optimizer\u001b[0m\u001b[1;33m(\u001b[0m\u001b[0mopt_choice\u001b[0m\u001b[1;33m=\u001b[0m\u001b[0margs\u001b[0m\u001b[1;33m[\u001b[0m\u001b[1;34m\"optimizer\"\u001b[0m\u001b[1;33m]\u001b[0m\u001b[1;33m,\u001b[0m \u001b[0mlearning_rate\u001b[0m\u001b[1;33m=\u001b[0m\u001b[1;36m0.0\u001b[0m\u001b[1;33m,\u001b[0m \u001b[0mmomentum\u001b[0m\u001b[1;33m=\u001b[0m\u001b[0margs\u001b[0m\u001b[1;33m[\u001b[0m\u001b[1;34m\"momentum\"\u001b[0m\u001b[1;33m]\u001b[0m\u001b[1;33m,\u001b[0m \u001b[0mclipnorm\u001b[0m\u001b[1;33m=\u001b[0m\u001b[0margs\u001b[0m\u001b[1;33m[\u001b[0m\u001b[1;34m\"clipnorm\"\u001b[0m\u001b[1;33m]\u001b[0m\u001b[1;33m)\u001b[0m\u001b[1;33m,\u001b[0m\u001b[1;33m\u001b[0m\u001b[1;33m\u001b[0m\u001b[0m\n\u001b[0;32m      5\u001b[0m     \u001b[0mmetrics\u001b[0m\u001b[1;33m=\u001b[0m\u001b[1;33m[\u001b[0m\u001b[1;34m\"accuracy\"\u001b[0m\u001b[1;33m]\u001b[0m\u001b[1;33m\u001b[0m\u001b[1;33m\u001b[0m\u001b[0m\n",
      "\u001b[1;31mNameError\u001b[0m: name 'model' is not defined"
     ]
    }
   ],
   "source": [
    "## Compile af modellen\n",
    "model.compile(\n",
    "    loss=\"categorical_crossentropy\",\n",
    "    optimizer=get_optimizer(opt_choice=args[\"optimizer\"], learning_rate=0.0, momentum=args[\"momentum\"], clipnorm=args[\"clipnorm\"]),\n",
    "    metrics=[\"accuracy\"]\n",
    ")\n"
   ]
  },
  {
   "cell_type": "code",
   "execution_count": null,
   "metadata": {},
   "outputs": [],
   "source": [
    "## Send model til json_fil "
   ]
  }
 ],
 "metadata": {
  "kernelspec": {
   "display_name": "Python 3",
   "language": "python",
   "name": "python3"
  },
  "language_info": {
   "codemirror_mode": {
    "name": "ipython",
    "version": 3
   },
   "file_extension": ".py",
   "mimetype": "text/x-python",
   "name": "python",
   "nbconvert_exporter": "python",
   "pygments_lexer": "ipython3",
   "version": "3.8.5"
  }
 },
 "nbformat": 4,
 "nbformat_minor": 4
}
